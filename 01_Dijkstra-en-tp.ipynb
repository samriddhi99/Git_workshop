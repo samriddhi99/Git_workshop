{
 "cells": [
  {
   "cell_type": "markdown",
   "id": "3bba48db-bfdf-4ca9-98b1-978d4a8aa96c",
   "metadata": {},
   "source": [
    "# Shortest distances on a graph - Dijkstra\n",
    "The graph must be oriented, with positive weights."
   ]
  },
  {
   "cell_type": "markdown",
   "id": "0ec3cbc1-e64e-4d7d-9084-3696bebd2b5a",
   "metadata": {},
   "source": [
    "The graph will be modeled as a dictionary, with name nodes as keys. The connected nodes will be another dictionary with nodes names and weights. We will work on the following graph.  "
   ]
  },
  {
   "cell_type": "markdown",
   "id": "9e0e8914-da58-472a-92db-9aba69ea201d",
   "metadata": {},
   "source": [
    "![Graph](./Graphe.png)"
   ]
  },
  {
   "cell_type": "code",
   "execution_count": 1,
   "id": "ded9f751-a65e-4bf7-80c8-25547f30286d",
   "metadata": {
    "tags": []
   },
   "outputs": [
    {
     "name": "stdout",
     "output_type": "stream",
     "text": [
      "The nodes of the graph are: ['A', 'B', 'C', 'D', 'E', 'F', 'G']\n",
      "['B', 'C', 'D']\n"
     ]
    }
   ],
   "source": [
    "# The graph as a dictionary\n",
    "graph = {'A':{'B':9,'C':20,'D':17},'B':{'A':8,'E':30},'C':{'F':40},'D':{'G':50},'E':{'F':2},'F':{'G':8},'G':{}}\n",
    "nodes = graph.keys()\n",
    "print(\"The nodes of the graph are:\",list(nodes))\n",
    "\n",
    "l = list(graph['A'].keys())\n",
    "print(l)\n"
   ]
  },
  {
   "cell_type": "markdown",
   "id": "cdb61633-6066-4345-b530-68f7b3786201",
   "metadata": {},
   "source": [
    "We define the starting node."
   ]
  },
  {
   "cell_type": "code",
   "execution_count": 2,
   "id": "a7a52a66-26df-4663-99a9-791109966d53",
   "metadata": {},
   "outputs": [],
   "source": [
    "start = 'A'"
   ]
  },
  {
   "cell_type": "markdown",
   "id": "e418f7b4-5ec9-4013-8195-ad7c59d07e70",
   "metadata": {},
   "source": [
    "## From first node to connected nodes"
   ]
  },
  {
   "cell_type": "code",
   "execution_count": 3,
   "id": "8e2e3ea1-897a-4a27-b82a-fab9dd390c94",
   "metadata": {},
   "outputs": [
    {
     "name": "stdout",
     "output_type": "stream",
     "text": [
      "Connected nodes from A are {'B': 9, 'C': 20, 'D': 17}\n"
     ]
    }
   ],
   "source": [
    "connNodes = graph[start]\n",
    "print(\"Connected nodes from\",start,\"are\",connNodes)"
   ]
  },
  {
   "cell_type": "markdown",
   "id": "abcb6677-d584-46ba-a522-74c985fee12f",
   "metadata": {},
   "source": [
    "We then know the distances from the the start node. For now they are the minimal distances.\n",
    "We will store these minimal distances in another dictionary, and update them if necessary.\n",
    "We will also initialize these minimal distances for all nodes to *Inf*, except for the start node to 0."
   ]
  },
  {
   "cell_type": "code",
   "execution_count": 4,
   "id": "18557035-1a5d-43da-b9ff-029b2b9dfb54",
   "metadata": {},
   "outputs": [],
   "source": [
    "import math\n",
    "minDist = {}\n",
    "for node in nodes:\n",
    "    minDist[node] = math.inf\n",
    "minDist[start] = 0"
   ]
  },
  {
   "cell_type": "markdown",
   "id": "3ec6ae43-2909-4ccb-a989-6711e0413552",
   "metadata": {},
   "source": [
    "We will do the first step of the algorithm. We will compare the minimal distances for our connected nodes, and update the minimal distance if necessary.\n",
    "The minimal distance to our connected nodes is simply the minimal distance to the start node added with the distance between the start node and the connected nodes."
   ]
  },
  {
   "cell_type": "code",
   "execution_count": 5,
   "id": "e64402d0-c58d-4ec4-9da5-91d8197a497e",
   "metadata": {},
   "outputs": [
    {
     "name": "stdout",
     "output_type": "stream",
     "text": [
      "Minimal distances before {'A': 0, 'B': inf, 'C': inf, 'D': inf, 'E': inf, 'F': inf, 'G': inf}\n",
      "Minimal distances after {'A': 0, 'B': 9, 'C': 20, 'D': 17, 'E': inf, 'F': inf, 'G': inf}\n"
     ]
    }
   ],
   "source": [
    "print(\"Minimal distances before\", minDist)\n",
    "for node in connNodes:\n",
    "    dist = minDist[start] + graph[start][node] \n",
    "    if dist < minDist[node]:\n",
    "            minDist[node] = dist\n",
    "print(\"Minimal distances after\", minDist)"
   ]
  },
  {
   "cell_type": "markdown",
   "id": "7f96b9e2-b810-419e-9932-1aed210fc7c3",
   "metadata": {},
   "source": [
    "If we want to store the path that lead to this minimal distance, we will store this information as  another dictionary."
   ]
  },
  {
   "cell_type": "code",
   "execution_count": 6,
   "id": "c32b25b3-2b88-4307-9307-832974ce26b9",
   "metadata": {},
   "outputs": [],
   "source": [
    "previousNodes = {}\n",
    "for node in nodes:\n",
    "    previousNodes[node] = None"
   ]
  },
  {
   "cell_type": "markdown",
   "id": "7c62f715-898a-432f-ae37-2f94a246f962",
   "metadata": {},
   "source": [
    "We will redo the processing on connected nodes by updating both the minimal distances and the previous node."
   ]
  },
  {
   "cell_type": "code",
   "execution_count": 7,
   "id": "211ada17-d401-4877-95ad-3ad5f356f501",
   "metadata": {},
   "outputs": [
    {
     "name": "stdout",
     "output_type": "stream",
     "text": [
      "Previous nodes before {'A': None, 'B': None, 'C': None, 'D': None, 'E': None, 'F': None, 'G': None}\n",
      "Previous nodes after {'A': None, 'B': 'A', 'C': 'A', 'D': 'A', 'E': None, 'F': None, 'G': None}\n"
     ]
    }
   ],
   "source": [
    "for node in nodes:\n",
    "    minDist[node] = math.inf\n",
    "    previousNodes[node] = None\n",
    "minDist[start] = 0\n",
    "\n",
    "start = 'A'\n",
    "connNodes = graph[start]\n",
    "\n",
    "print(\"Previous nodes before\", previousNodes)\n",
    "for node in connNodes:\n",
    "    dist = minDist[start] + graph[start][node]\n",
    "    if dist < minDist[node]:\n",
    "            minDist[node] = dist\n",
    "            previousNodes[node] = start\n",
    "print(\"Previous nodes after\", previousNodes)"
   ]
  },
  {
   "cell_type": "markdown",
   "id": "fa903cad-250e-4bc6-bd26-516ae5e2688e",
   "metadata": {},
   "source": [
    "We create a function that will do the updating."
   ]
  },
  {
   "cell_type": "code",
   "execution_count": 8,
   "id": "368a4184-26d2-438e-85f3-84f90156612c",
   "metadata": {},
   "outputs": [],
   "source": [
    "def updateDist(graph, start, minDist, previousNodes):\n",
    "    connectedNodes = graph[start]\n",
    "     # update distance of visits\n",
    "    for connNode in connectedNodes:\n",
    "        dist = minDist[start] + graph[start][connNode]\n",
    "        if dist < minDist[connNode]:\n",
    "            minDist[connNode] = dist\n",
    "            previousNodes[connNode] = start\n",
    "    return connectedNodes"
   ]
  },
  {
   "cell_type": "markdown",
   "id": "f1832886-06cc-48f3-b6b0-02914d2b0936",
   "metadata": {},
   "source": [
    "We redo the process using our update function."
   ]
  },
  {
   "cell_type": "code",
   "execution_count": 9,
   "id": "adb79213",
   "metadata": {},
   "outputs": [
    {
     "name": "stdout",
     "output_type": "stream",
     "text": [
      "Min distances {'A': 0, 'B': 9, 'C': 20, 'D': 17, 'E': inf, 'F': inf, 'G': inf}\n"
     ]
    }
   ],
   "source": [
    "for node in nodes:\n",
    "    minDist[node] = math.inf\n",
    "    previousNodes[node] = None\n",
    "minDist[start] = 0\n",
    "\n",
    "start = 'A'\n",
    "connNodes = graph[start]\n",
    "\n",
    "connNodes = updateDist(graph,start,minDist,previousNodes)\n",
    "print(\"Min distances\",minDist)"
   ]
  },
  {
   "cell_type": "markdown",
   "id": "0442bbb7-90d8-4d42-a9b9-195c1bb6a330",
   "metadata": {},
   "source": [
    "We will the do the same thing using the connected nodes as new start nodes. But since we are looking for smallest distance, we will use the node with smallest distance first.\n",
    "There is hence a sorting (or search for minimum) to do on the connected nodes."
   ]
  },
  {
   "cell_type": "code",
   "execution_count": 10,
   "id": "d5a5e04b-5b95-4af4-8428-099335b144ca",
   "metadata": {},
   "outputs": [
    {
     "name": "stdout",
     "output_type": "stream",
     "text": [
      "Sorted nodes ['B', 'D', 'C']\n"
     ]
    }
   ],
   "source": [
    "sortedNodes = sorted(connNodes, key = lambda n:minDist[n])\n",
    "print(\"Sorted nodes\", sortedNodes)"
   ]
  },
  {
   "cell_type": "markdown",
   "id": "125f8c8c-dee1-41fa-b660-d65628669099",
   "metadata": {},
   "source": [
    "We use then the node with smallest distance and redo the process. "
   ]
  },
  {
   "cell_type": "code",
   "execution_count": 11,
   "id": "f7cc8fe8-6492-41cb-9ff3-48042dd41218",
   "metadata": {},
   "outputs": [
    {
     "name": "stdout",
     "output_type": "stream",
     "text": [
      "Next start B\n",
      "Minimal distances before {'A': 0, 'B': 9, 'C': 20, 'D': 17, 'E': inf, 'F': inf, 'G': inf}\n",
      "New nodes from B are {'A': 8, 'E': 30}\n",
      "Minimal distances after {'A': 0, 'B': 9, 'C': 20, 'D': 17, 'E': 39, 'F': inf, 'G': inf}\n"
     ]
    }
   ],
   "source": [
    "nextStart = sortedNodes[0]\n",
    "print(\"Next start\", nextStart)\n",
    "\n",
    "print(\"Minimal distances before\", minDist)\n",
    "connNodes = updateDist(graph, nextStart, minDist, previousNodes)\n",
    "print(\"New nodes from\", nextStart, \"are\",connNodes)\n",
    "print(\"Minimal distances after\", minDist)"
   ]
  },
  {
   "cell_type": "markdown",
   "id": "60a5ef82-013b-45e2-8cb3-6693225c27c1",
   "metadata": {},
   "source": [
    "**CAUTION** \n",
    "- The node A is in the list of connected nodes, but it was already processed. We create a list of nodes already processed.\n",
    "- We must not forget to process the previously connected nodes. We then create a list of nodes to process."
   ]
  },
  {
   "cell_type": "markdown",
   "id": "c8ee4165-83b6-4c93-ba32-2f34d93b7f3c",
   "metadata": {},
   "source": [
    "## Final algorithm\n",
    "We create a list of already processed nodes, and a list of nodes to process. We add the start node to the list of nodes to process."
   ]
  },
  {
   "cell_type": "code",
   "execution_count": null,
   "id": "6ab66783-1691-436a-a24d-966ed12de23e",
   "metadata": {},
   "outputs": [],
   "source": [
    "processed = [] \n",
    "toProcess = [] \n",
    "start = 'A'\n",
    "toProcess.append(start)\n",
    "print(\"To Process\", toProcess)"
   ]
  },
  {
   "cell_type": "markdown",
   "id": "a8c51038-c6e5-4a1f-b1cd-afc4a372d193",
   "metadata": {},
   "source": [
    "We redo the main algorithm, we need to update the main function by taking into account the start node."
   ]
  },
  {
   "cell_type": "code",
   "execution_count": null,
   "id": "36ba68fa-5b8c-4f6b-8481-9ecbad23aea6",
   "metadata": {},
   "outputs": [],
   "source": [
    "for node in nodes:\n",
    "    minDist[node] = math.inf\n",
    "    previousNodes[node] = None\n",
    "minDist[start] = 0\n",
    "\n",
    "connNodes = updateDist(graph, start, minDist, previousNodes)\n",
    "toProcess.remove(start)\n",
    "processed.append(start)\n",
    "print(connNodes)"
   ]
  },
  {
   "cell_type": "markdown",
   "id": "c2f0e001-303e-4683-828c-71bd21b18bd0",
   "metadata": {},
   "source": [
    "We add the connected nodes to the list of nodes to process with two conditions :\n",
    "- They are not already in the *toProcess* list.\n",
    "- They are not in the *processed* list."
   ]
  },
  {
   "cell_type": "markdown",
   "id": "6de4f906-2b9f-41f2-86ab-deb73717ce25",
   "metadata": {},
   "source": [
    "We need to process all nodes in the *toProcess* list until all nodes are processed."
   ]
  },
  {
   "cell_type": "code",
   "execution_count": null,
   "id": "f2845db5-bb53-4f70-a93b-fadc90a9c669",
   "metadata": {},
   "outputs": [],
   "source": [
    "# initialization\n",
    "for node in nodes:\n",
    "    minDist[node] = math.inf\n",
    "    previousNodes[node] = None\n",
    "processed = [] \n",
    "toProcess = [] \n",
    "    \n",
    "# start at A\n",
    "start0 = 'A'\n",
    "minDist[start0] = 0\n",
    "toProcess.append(start0)\n",
    "\n",
    "start = start0\n",
    "# processing loop\n",
    "while toProcess:\n",
    "    print(\"Processing\", start)\n",
    "    connNodes = updateDist(graph, start, minDist, previousNodes)\n",
    "    processed.append(start)\n",
    "    toProcess.remove(start)\n",
    "    for connNode in connNodes: \n",
    "        if connNode not in processed:\n",
    "            toProcess.append(connNode)\n",
    "    sortedNodes = sorted(toProcess, key = lambda n:minDist[n])\n",
    "    if sortedNodes:\n",
    "        start = sortedNodes[0]\n",
    "    print(\"Minimal distances\", minDist)"
   ]
  },
  {
   "cell_type": "markdown",
   "id": "d0655072-f024-4d50-9030-b7ce7fdbac78",
   "metadata": {},
   "source": [
    "We got all minimal distances from *A*. "
   ]
  },
  {
   "cell_type": "code",
   "execution_count": null,
   "id": "669014d1-e3d4-4d52-a0ec-3736c0c82195",
   "metadata": {},
   "outputs": [],
   "source": [
    "end = 'G'\n",
    "print(\"Distance minimal from\",start0,\"to\",end,\":\",minDist[end])"
   ]
  },
  {
   "cell_type": "markdown",
   "id": "bbd2a5c7-7c06-4967-b030-4c9cc49775bf",
   "metadata": {},
   "source": [
    "For the minimal path, we need to iterate over *previousNodes*."
   ]
  },
  {
   "cell_type": "code",
   "execution_count": null,
   "id": "1112ef08-1814-4a84-a9dc-86cc63720f66",
   "metadata": {},
   "outputs": [],
   "source": [
    "print(\"Previous node from\",end,\"is\",previousNodes[end])"
   ]
  },
  {
   "cell_type": "markdown",
   "id": "d799ab16-53ce-439c-8e40-facb69150371",
   "metadata": {},
   "source": [
    "Going back to start."
   ]
  },
  {
   "cell_type": "code",
   "execution_count": null,
   "id": "620a5ab6-f625-41b0-bc98-9c0630fcbc40",
   "metadata": {},
   "outputs": [],
   "source": [
    "nodePath = end\n"
   ]
  },
  {
   "cell_type": "markdown",
   "id": "1f8d7a31-1800-45d5-9658-02d4cda05da3",
   "metadata": {},
   "source": [
    "We can create a function that will do all the computation."
   ]
  },
  {
   "cell_type": "code",
   "execution_count": null,
   "id": "5cdf83bd-6284-4a3e-a106-9e3994b20585",
   "metadata": {},
   "outputs": [],
   "source": [
    "def minimalPath(graph, start0, end):\n",
    "   \n",
    "    return minimalDistance, path"
   ]
  },
  {
   "cell_type": "code",
   "execution_count": null,
   "id": "a5fb41ab-5f0c-4b57-8099-031eaa0eaac0",
   "metadata": {},
   "outputs": [],
   "source": [
    "cost, path = minimalPath(graph, 'A','G')\n",
    "print(cost, path)"
   ]
  },
  {
   "cell_type": "markdown",
   "id": "a9a056c0-cf4c-4227-b4d3-92cfab7f869e",
   "metadata": {},
   "source": [
    "We try impossible path from *D* to *E*."
   ]
  },
  {
   "cell_type": "code",
   "execution_count": null,
   "id": "66f78759-f263-4de3-8891-3b9a36115b3f",
   "metadata": {},
   "outputs": [],
   "source": [
    "print(minimalPath(graph, 'D','E'))"
   ]
  },
  {
   "cell_type": "code",
   "execution_count": null,
   "id": "41cb68fd",
   "metadata": {},
   "outputs": [],
   "source": []
  }
 ],
 "metadata": {
  "kernelspec": {
   "display_name": "base",
   "language": "python",
   "name": "python3"
  },
  "language_info": {
   "codemirror_mode": {
    "name": "ipython",
    "version": 3
   },
   "file_extension": ".py",
   "mimetype": "text/x-python",
   "name": "python",
   "nbconvert_exporter": "python",
   "pygments_lexer": "ipython3",
   "version": "3.13.5"
  }
 },
 "nbformat": 4,
 "nbformat_minor": 5
}
